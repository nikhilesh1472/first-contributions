{
  "nbformat": 4,
  "nbformat_minor": 0,
  "metadata": {
    "colab": {
      "provenance": [],
      "authorship_tag": "ABX9TyPdI+E0SRgG+r+sFMs7JYL0",
      "include_colab_link": true
    },
    "kernelspec": {
      "name": "python3",
      "display_name": "Python 3"
    },
    "language_info": {
      "name": "python"
    }
  },
  "cells": [
    {
      "cell_type": "markdown",
      "metadata": {
        "id": "view-in-github",
        "colab_type": "text"
      },
      "source": [
        "<a href=\"https://colab.research.google.com/github/nikhilesh1472/first-contributions/blob/master/Hacker_rank_p3.ipynb\" target=\"_parent\"><img src=\"https://colab.research.google.com/assets/colab-badge.svg\" alt=\"Open In Colab\"/></a>"
      ]
    },
    {
      "cell_type": "code",
      "execution_count": 19,
      "metadata": {
        "colab": {
          "base_uri": "https://localhost:8080/"
        },
        "id": "ROQNItOhSNBE",
        "outputId": "ea8765fe-4c50-4936-a828-7b8aeb1d215e"
      },
      "outputs": [
        {
          "output_type": "execute_result",
          "data": {
            "text/plain": [
              "15.5"
            ]
          },
          "metadata": {},
          "execution_count": 19
        }
      ],
      "source": [
        "# what is his probable score in History?\n",
        "import math as m\n",
        "\n",
        "# define functions for mean,variance, covariance, slope and intercept.\n",
        "\n",
        "def mean(data):\n",
        "  return sum(data)/len(data)\n",
        "\n",
        "def variance(data):\n",
        "  sum = 0\n",
        "  for i in range(len(data)):\n",
        "    sum = sum + (data[i]-mean(data))**2\n",
        "  return sum\n",
        "\n",
        "def cov(dv,iv):\n",
        "  sum =0\n",
        "  for i in range(len(dv)):\n",
        "    sum = sum + (dv[i]-mean(dv))*(iv[i]-mean(iv))\n",
        "  return sum\n",
        "\n",
        "def slope(dv,iv):\n",
        "  return cov(dv,iv)/variance(iv)\n",
        "\n",
        "def intercept(dv,iv):\n",
        "  return mean(dv) - slope(dv,iv)*mean(iv)\n",
        "\n",
        "physics = [15,12,8,8,7,7,7,6,5,3]\n",
        "history = [10,25,17,11,13,17,20,13,9,15]\n",
        "\n",
        "# Define regression equation to predict dependent variable given an element of independent variable\n",
        "def pred(dv,iv,x):\n",
        "  return round(slope(dv,iv)*x + intercept(dv,iv),1)\n",
        "\n",
        "\n",
        "pred(history,physics,10)"
      ]
    },
    {
      "cell_type": "code",
      "source": [
        "physics = [15.0, 12.0, 8.0, 8.0, 7.0, 7.0, 7.0, 6.0, 5.0, 3.0]\n",
        "history = [10.0, 25.0, 17.0, 11.0, 13.0, 17.0, 20.0, 13.0, 9.0, 15.0]\n",
        "\n",
        "mean_physics = sum(physics) / len(physics)\n",
        "mean_history = sum(history) / len(history)\n",
        "\n",
        "var_physics = sum([(x-mean_physics)**2 for x in physics])\n",
        "cov_ph = sum([(x-mean_physics) * (y-mean_history) for x,y in zip(physics,history)])\n",
        "\n",
        "# get coeff of regression\n",
        "slope = cov_ph/var_physics\n",
        "icpt = mean_history - (mean_physics*slope)\n",
        "\n",
        "# predict\n",
        "pred = slope*10 + icpt\n",
        "print(mean_physics)\n",
        "print(mean_history)\n",
        "print(var_physics)\n",
        "print(cov_ph)\n",
        "print(slope)\n",
        "print(icpt)\n",
        "print(f\"{pred:.1f}\")"
      ],
      "metadata": {
        "colab": {
          "base_uri": "https://localhost:8080/"
        },
        "id": "1jtClUPWZQUv",
        "outputId": "5a9b49df-47fc-40ff-a890-94c2ad735c8a"
      },
      "execution_count": 26,
      "outputs": [
        {
          "output_type": "stream",
          "name": "stdout",
          "text": [
            "7.8\n",
            "15.0\n",
            "105.60000000000002\n",
            "21.999999999999996\n",
            "0.20833333333333326\n",
            "13.375\n",
            "15.5\n"
          ]
        }
      ]
    },
    {
      "cell_type": "code",
      "source": [],
      "metadata": {
        "id": "wXZ1-RDhjprY"
      },
      "execution_count": null,
      "outputs": []
    }
  ]
}