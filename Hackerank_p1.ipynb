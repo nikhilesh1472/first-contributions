{
  "nbformat": 4,
  "nbformat_minor": 0,
  "metadata": {
    "colab": {
      "provenance": [],
      "authorship_tag": "ABX9TyOJ+2HG0edBkRsqh+1V5+r7",
      "include_colab_link": true
    },
    "kernelspec": {
      "name": "python3",
      "display_name": "Python 3"
    },
    "language_info": {
      "name": "python"
    }
  },
  "cells": [
    {
      "cell_type": "markdown",
      "metadata": {
        "id": "view-in-github",
        "colab_type": "text"
      },
      "source": [
        "<a href=\"https://colab.research.google.com/github/nikhilesh1472/first-contributions/blob/master/Hackerank_p1.ipynb\" target=\"_parent\"><img src=\"https://colab.research.google.com/assets/colab-badge.svg\" alt=\"Open In Colab\"/></a>"
      ]
    },
    {
      "cell_type": "code",
      "execution_count": 1,
      "metadata": {
        "id": "5PJKYP0v4-TD"
      },
      "outputs": [],
      "source": [
        "# Calculate Karl Pearson coefficient of correlation\n",
        "import math as m"
      ]
    },
    {
      "cell_type": "code",
      "source": [
        "def mean(data):\n",
        "  return sum(data)/len(data)\n",
        "\n",
        "def variance(data):\n",
        "  sum=0\n",
        "  for i in range(len(data)):\n",
        "    sum = sum + (data[i]-mean(data))**2\n",
        "  return sum\n",
        "\n",
        "def cov(d1,d2):\n",
        "  sum=0\n",
        "  for i in range(len(d1)):\n",
        "    sum = sum + (d1[i] - mean(d1)) * (d2[i] - mean(d2))\n",
        "  return sum\n",
        "\n"
      ],
      "metadata": {
        "id": "psr81LKZ6NoK"
      },
      "execution_count": 11,
      "outputs": []
    },
    {
      "cell_type": "code",
      "source": [
        "list1 = [15,12,8,8,7,7,7,6,5,3]\n",
        "list2 = [10,25,17,11,13,17,20,13,9,15]\n",
        "coeff = cov(list1,list2) / m.sqrt(variance(list1)*variance(list2))\n",
        "print(f\"{coeff:.3f}\")"
      ],
      "metadata": {
        "colab": {
          "base_uri": "https://localhost:8080/"
        },
        "id": "ua1pE0L08xN-",
        "outputId": "170d8345-ee35-4b9a-b90e-6aa5bee24989"
      },
      "execution_count": 19,
      "outputs": [
        {
          "output_type": "stream",
          "name": "stdout",
          "text": [
            "0.145\n"
          ]
        }
      ]
    },
    {
      "cell_type": "code",
      "source": [],
      "metadata": {
        "id": "Bz3_B66S8-OS"
      },
      "execution_count": null,
      "outputs": []
    }
  ]
}