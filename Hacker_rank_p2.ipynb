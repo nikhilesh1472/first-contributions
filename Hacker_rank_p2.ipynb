{
  "nbformat": 4,
  "nbformat_minor": 0,
  "metadata": {
    "colab": {
      "provenance": [],
      "authorship_tag": "ABX9TyNxoS8KfgxxktPPhPS+3foC",
      "include_colab_link": true
    },
    "kernelspec": {
      "name": "python3",
      "display_name": "Python 3"
    },
    "language_info": {
      "name": "python"
    }
  },
  "cells": [
    {
      "cell_type": "markdown",
      "metadata": {
        "id": "view-in-github",
        "colab_type": "text"
      },
      "source": [
        "<a href=\"https://colab.research.google.com/github/nikhilesh1472/first-contributions/blob/master/Hacker_rank_p2.ipynb\" target=\"_parent\"><img src=\"https://colab.research.google.com/assets/colab-badge.svg\" alt=\"Open In Colab\"/></a>"
      ]
    },
    {
      "cell_type": "code",
      "execution_count": 2,
      "metadata": {
        "colab": {
          "base_uri": "https://localhost:8080/"
        },
        "id": "zkaj0T2pOcHQ",
        "outputId": "e301716e-5990-4a9e-d974-7c9f2e2acee7"
      },
      "outputs": [
        {
          "output_type": "stream",
          "name": "stdout",
          "text": [
            "0.208\n"
          ]
        }
      ],
      "source": [
        "#Compute the slope of the line of regression obtained while treating Physics as the independent variable\n",
        "\n",
        "import math as m\n",
        "\n",
        "# Calculate mean\n",
        "def mean(data):\n",
        "  return sum(data)/len(data)\n",
        "\n",
        "# Calculate variance of independent variable\n",
        "def variance(iv):\n",
        "  sum=0\n",
        "  for i in range(len(iv)):\n",
        "    sum = sum + (iv[i] - mean(iv))**2\n",
        "  return sum\n",
        "\n",
        "# Calculate covariance\n",
        "def cov(v,iv):\n",
        "  sum=0\n",
        "  for i in range(len(v)):\n",
        "    sum = sum + (v[i] - mean(v)) *(iv[i]-mean(iv))\n",
        "  return sum\n",
        "\n",
        "physics = [15,12,8,8,7,7,7,6,5,3]\n",
        "history = [10,25,17,11,13,17,20,13,9,15]\n",
        "\n",
        "slope = cov(physics,history) / variance(physics)\n",
        "print(f\"{slope:.3f}\")"
      ]
    }
  ]
}